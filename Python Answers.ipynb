{
 "cells": [
  {
   "cell_type": "code",
   "execution_count": 1,
   "metadata": {},
   "outputs": [],
   "source": [
    "import numpy as np\n",
    "import pandas as pd\n",
    "import math"
   ]
  },
  {
   "cell_type": "markdown",
   "metadata": {},
   "source": [
    "# Q11 to Q15 are programming questions. Answer them in Jupyter Notebook.\n",
    "\n",
    "\n",
    "## 11. Write a python program to find the factorial of a number."
   ]
  },
  {
   "cell_type": "code",
   "execution_count": 28,
   "metadata": {},
   "outputs": [
    {
     "name": "stdout",
     "output_type": "stream",
     "text": [
      "The factorial of 3 is 3\n"
     ]
    }
   ],
   "source": [
    "# Method 1 N=number, F=factorial\n",
    "\n",
    "N=3\n",
    "F=1\n",
    "if N<0:\n",
    "    print(\"Factorial does not exist for negative numbers\")\n",
    "elif N==0:\n",
    "    print(\"The factorial of 0 is 1\")\n",
    "else:\n",
    "    for i in range(1,N+1):\n",
    "        factorial=F*i\n",
    "    print(\"The factorial of\",N,\"is\",factorial)"
   ]
  },
  {
   "cell_type": "code",
   "execution_count": 11,
   "metadata": {},
   "outputs": [
    {
     "name": "stdout",
     "output_type": "stream",
     "text": [
      "Enter the number:3\n",
      "The factorial of 2 is 3\n",
      "The factorial of 1 is 6\n",
      "The factorial of 0 is 6\n"
     ]
    }
   ],
   "source": [
    "#Method 2\n",
    "\n",
    "i=int(input(\"Enter the number:\"))\n",
    "fac=1\n",
    "while(i>0):\n",
    "    fac=fac*i\n",
    "    i=i-1\n",
    "    print(\"The factorial of\",i,\"is\",fac)"
   ]
  },
  {
   "cell_type": "code",
   "execution_count": 3,
   "metadata": {},
   "outputs": [
    {
     "name": "stdout",
     "output_type": "stream",
     "text": [
      "6\n"
     ]
    }
   ],
   "source": [
    "# Method 3\n",
    "\n",
    "print(math.factorial(3))"
   ]
  },
  {
   "cell_type": "markdown",
   "metadata": {},
   "source": [
    "##  12. Write a python program to find whether a number is prime or composite."
   ]
  },
  {
   "cell_type": "code",
   "execution_count": 14,
   "metadata": {},
   "outputs": [
    {
     "name": "stdout",
     "output_type": "stream",
     "text": [
      "False\n"
     ]
    }
   ],
   "source": [
    "# Method 1\n",
    "\n",
    "def test_prime(n):\n",
    "    if (n==1):\n",
    "        return False\n",
    "    elif (n==2):\n",
    "        return True;\n",
    "    else:\n",
    "        for x in range(2,n):\n",
    "            if(n % x==0):\n",
    "                return False\n",
    "        return True             \n",
    "print(test_prime(4))"
   ]
  },
  {
   "cell_type": "code",
   "execution_count": 19,
   "metadata": {},
   "outputs": [
    {
     "name": "stdout",
     "output_type": "stream",
     "text": [
      "Enter any number : 5\n",
      "5 is a prime number\n"
     ]
    }
   ],
   "source": [
    "# Method 2\n",
    "\n",
    "num = int(input(\"Enter any number : \"))\n",
    "if num > 1:\n",
    "    for i in range(2, num):\n",
    "        if (num % i) == 0:\n",
    "            print(num, \"is not a prime number\")\n",
    "            break\n",
    "    else:\n",
    "        print(num, \"is a prime number\")\n",
    "elif num == 0 or 1:\n",
    "    print(num, \"is neither prime nor composite number\")\n",
    "else:\n",
    "    print(num, \"is not a prime number but a composite number\")"
   ]
  },
  {
   "cell_type": "code",
   "execution_count": 16,
   "metadata": {},
   "outputs": [
    {
     "name": "stdout",
     "output_type": "stream",
     "text": [
      "Enter any number: 6\n",
      "6 is not a prime numbert\n"
     ]
    }
   ],
   "source": [
    "# Method 3\n",
    "\n",
    "def PrimeChecker(a):\n",
    "    if a>1:\n",
    "        for j in range(2,int(a/2)+1):\n",
    "            if(a%j)==0:\n",
    "                print(a,\"is not a prime numbert\")\n",
    "                break\n",
    "        else:\n",
    "            print(a,\"is a prime number\")\n",
    "    else:\n",
    "        print(a,\"is not a prime number\")\n",
    "\n",
    "a=int(input(\"Enter any number: \"))\n",
    "PrimeChecker(a)"
   ]
  },
  {
   "cell_type": "markdown",
   "metadata": {},
   "source": [
    "## 13. Write a python program to check whether a given string is palindrome or not"
   ]
  },
  {
   "cell_type": "code",
   "execution_count": 22,
   "metadata": {},
   "outputs": [
    {
     "name": "stdout",
     "output_type": "stream",
     "text": [
      "Enter a string:Noida\n",
      "Not a palindrome\n"
     ]
    }
   ],
   "source": [
    "# Method 1\n",
    "\n",
    "string=input((\"Enter a string:\"))\n",
    "if(string==string[::-1]):\n",
    "      print(\"The string is a palindrome\")\n",
    "else:\n",
    "      print(\"Not a palindrome\")"
   ]
  },
  {
   "cell_type": "code",
   "execution_count": 26,
   "metadata": {},
   "outputs": [
    {
     "name": "stdout",
     "output_type": "stream",
     "text": [
      "No\n"
     ]
    }
   ],
   "source": [
    "# Method 2\n",
    "\n",
    "a = \"Noida\"\n",
    "b = \"\"\n",
    "for i in a:\n",
    "    b = i + b\n",
    "if (a == b):\n",
    "    print(\"Yes\")\n",
    "else:\n",
    "    print(\"No\")"
   ]
  },
  {
   "cell_type": "code",
   "execution_count": 27,
   "metadata": {},
   "outputs": [
    {
     "name": "stdout",
     "output_type": "stream",
     "text": [
      "The string is not a palindrome.\n"
     ]
    }
   ],
   "source": [
    "# Method 3\n",
    "\n",
    "string = 'Noida'\n",
    "string = string.casefold()\n",
    "rev_string = reversed(string)\n",
    "if list(string) == list(rev_string):\n",
    "   print(\"The string is a palindrome.\")\n",
    "else:\n",
    "   print(\"The string is not a palindrome.\")"
   ]
  },
  {
   "cell_type": "markdown",
   "metadata": {},
   "source": [
    "## 14. Write a Python program to get the third side of right-angled triangle from two given sides."
   ]
  },
  {
   "cell_type": "code",
   "execution_count": 31,
   "metadata": {},
   "outputs": [],
   "source": [
    "from math import sqrt"
   ]
  },
  {
   "cell_type": "code",
   "execution_count": 37,
   "metadata": {},
   "outputs": [
    {
     "name": "stdout",
     "output_type": "stream",
     "text": [
      "a: 4\n",
      "b: 5\n",
      "6.4031242374328485\n"
     ]
    }
   ],
   "source": [
    "# Method 1\n",
    "\n",
    "def findHypotenuse(a, b):\n",
    "    h = (((a * a) + (b * b))**(1/2));\n",
    "    return h; \n",
    "a = float(input(\"a: \"))\n",
    "b = float(input(\"b: \"))\n",
    "print(findHypotenuse(a, b));"
   ]
  },
  {
   "cell_type": "code",
   "execution_count": 38,
   "metadata": {},
   "outputs": [
    {
     "name": "stdout",
     "output_type": "stream",
     "text": [
      "Input lengths of shorter triangle sides:\n",
      "a: 4\n",
      "b: 5\n",
      "The length of the hypotenuse is: 6.4031242374328485\n"
     ]
    }
   ],
   "source": [
    "# Method 2\n",
    "\n",
    "print(\"Input lengths of shorter triangle sides:\")\n",
    "a = float(input(\"a: \"))\n",
    "b = float(input(\"b: \"))\n",
    "c = sqrt(a**2 + b**2)\n",
    "print(\"The length of the hypotenuse is:\", c )"
   ]
  },
  {
   "cell_type": "markdown",
   "metadata": {},
   "source": [
    "## 15. Write a python program to print the frequency of each of the characters present in a given string."
   ]
  },
  {
   "cell_type": "code",
   "execution_count": 39,
   "metadata": {},
   "outputs": [
    {
     "name": "stdout",
     "output_type": "stream",
     "text": [
      "Enter the string language\n",
      "Character and their frequency\n",
      "l=1\n",
      "a=2\n",
      "n=1\n",
      "g=2\n",
      "u=1\n",
      "e=1\n"
     ]
    }
   ],
   "source": [
    "# Method 1\n",
    "\n",
    "string=input(\"Enter the string \")\n",
    "freq=[None]*len(string)\n",
    "for i in range(0,len(string)):\n",
    "  freq[i]=1\n",
    "  for j in range(i+1,len(string)):\n",
    "    if(string[i]==string[j]):\n",
    "        freq[i]=freq[i]+1\n",
    "        string=string[:j]+'0'+string[j+1:];\n",
    "print(\"Character and their frequency\");\n",
    "for i in range(0,len(freq)):\n",
    "    if(string[i]!=' ' and string[i]!='0'):\n",
    "        print(string[i]+\"=\"+str(freq[i]))"
   ]
  },
  {
   "cell_type": "code",
   "execution_count": 49,
   "metadata": {},
   "outputs": [
    {
     "name": "stdout",
     "output_type": "stream",
     "text": [
      "Enter the string language\n",
      "Count of all characters in language :\n",
      "{'l': 1, 'a': 2, 'n': 1, 'g': 2, 'u': 1, 'e': 1}\n"
     ]
    }
   ],
   "source": [
    "# Method 2\n",
    "\n",
    "string=input(\"Enter the string \")\n",
    "freq = {}\n",
    "  \n",
    "for i in string:\n",
    "    if i in freq:\n",
    "        freq[i] += 1\n",
    "    else:\n",
    "        freq[i] = 1\n",
    "print(\"Count of all characters in\",string, ':\\n' + str( freq))"
   ]
  },
  {
   "cell_type": "code",
   "execution_count": null,
   "metadata": {},
   "outputs": [],
   "source": []
  },
  {
   "cell_type": "code",
   "execution_count": null,
   "metadata": {},
   "outputs": [],
   "source": []
  }
 ],
 "metadata": {
  "kernelspec": {
   "display_name": "Python 3",
   "language": "python",
   "name": "python3"
  },
  "language_info": {
   "codemirror_mode": {
    "name": "ipython",
    "version": 3
   },
   "file_extension": ".py",
   "mimetype": "text/x-python",
   "name": "python",
   "nbconvert_exporter": "python",
   "pygments_lexer": "ipython3",
   "version": "3.8.5"
  }
 },
 "nbformat": 4,
 "nbformat_minor": 4
}
